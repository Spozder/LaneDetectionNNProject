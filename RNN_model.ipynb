{
 "cells": [
  {
   "cell_type": "code",
   "execution_count": 1,
   "metadata": {},
   "outputs": [],
   "source": [
    "import numpy as np\n",
    "import tensorflow as tf\n",
    "import matplotlib.pyplot as plt\n",
    "import pickle\n",
    "from sklearn.model_selection import train_test_split"
   ]
  },
  {
   "cell_type": "code",
   "execution_count": 2,
   "metadata": {},
   "outputs": [],
   "source": [
    "def prepare_data(train_data, train_label, memory_unit):\n",
    "    number, height, width, channel = \\\n",
    "    train_data.shape[0], train_data.shape[1], train_data.shape[2], train_data.shape[3]\n",
    "\n",
    "    number_of_mem_unit = number // memory_unit\n",
    "\n",
    "    # let the data become from (1200, 80, 160, 1) to (40, 30, 80 * 160)\n",
    "    sample_number = number_of_mem_unit * memory_unit\n",
    "    unit_train_data = train_data[0: sample_number, :, :, :].reshape(-1, memory_unit, height * width)\n",
    "    \n",
    "    # label shift to right by one step\n",
    "    unit_train_label = train_label[1: sample_number + 1, :, :, :].reshape(-1, memory_unit, height * width)\n",
    "    \n",
    "    return iter(unit_train_data), iter(unit_train_label)\n"
   ]
  },
  {
   "cell_type": "code",
   "execution_count": 3,
   "metadata": {},
   "outputs": [
    {
     "name": "stdout",
     "output_type": "stream",
     "text": [
      "(12000, 80, 160, 1)\n",
      "(400, 30, 12800)\n"
     ]
    }
   ],
   "source": [
    "# Example of formatting\n",
    "labels = pickle.load(open(\"full_CNN_labels.p\", \"rb\" ))\n",
    "labels = np.array(labels)[0:12000,:,:,:]\n",
    "labels = labels / 255\n",
    "print(labels.shape)\n",
    "print(labels.reshape(-1, 30, 80 * 160).shape)"
   ]
  },
  {
   "cell_type": "code",
   "execution_count": 4,
   "metadata": {},
   "outputs": [],
   "source": [
    "data = np.array(pickle.load(open(\"full_CNN_labels.p\", \"rb\" )))\n",
    "label = np.array(pickle.load(open(\"full_CNN_labels.p\", \"rb\" )))\n",
    "label = label / 255\n",
    "\n",
    "train_ratio = 0.8\n",
    "memory_size = 30\n",
    "train_data, test_data, train_label, test_label = \\\n",
    "train_test_split(data, label, train_size = train_ratio,\n",
    "                              test_size = 1 - train_ratio,\n",
    "                              shuffle = False)\n",
    "\n",
    "input_data_iter, input_label_iter = prepare_data(train_data, train_label, memory_size)\n"
   ]
  },
  {
   "cell_type": "code",
   "execution_count": null,
   "metadata": {},
   "outputs": [],
   "source": [
    "#Cell used to training\n",
    "\n",
    "learning_rate = 0.001\n",
    "\n",
    "#Size of our input image. e.g. number of features\n",
    "number_of_features = 80 * 160\n",
    "\n",
    "steps_num = 200\n",
    "\n",
    "#input data\n",
    "X = tf.placeholder(tf.float32, [None, memory_size, number_of_features])\n",
    "#data label\n",
    "Y = tf.placeholder(tf.float32, [None, memory_size, number_of_features])\n",
    "\n",
    "#RNN cells\n",
    "cell = tf.contrib.rnn.BasicLSTMCell(number_of_features, activation=tf.nn.relu)\n",
    "\n",
    "outputs, states = tf.nn.dynamic_rnn(cell, X, dtype=tf.float32)\n",
    "\n",
    "#loss\n",
    "loss = tf.reduce_mean(tf.square(outputs - Y))\n",
    "\n",
    "optimizer = tf.train.AdamOptimizer(learning_rate=learning_rate)\n",
    "\n",
    "train = optimizer.minimize(loss)\n",
    "\n",
    "init = tf.global_variables_initializer()\n",
    "\n",
    "saver = tf.train.Saver()\n",
    "\n",
    "with tf.Session() as sess:\n",
    "    sess.run(init)\n",
    "    for iteration in range(steps_num):\n",
    "        train_data, train_labels = next(input_data_iter), next(input_label_iter)\n",
    "        sess.run(train, feed_dict = {X:train_data, y:train_labels})\n",
    "        error = loss.eval( feed_dict = {X:train_data, y:train_labels})\n",
    "        print(\"iteration {}, error is {}\".format(iteration, error))\n",
    "        print(\"\\n\")\n",
    "    saver.save(\"./tmp/rnn_model\")"
   ]
  },
  {
   "cell_type": "code",
   "execution_count": null,
   "metadata": {},
   "outputs": [],
   "source": [
    "# Cell used to predicting\n",
    "with tf.Session() as sess:\n",
    "    saver.restore(sess, \"./tmp/rnn_model\")\n",
    "    # input data used to predict, format:\n",
    "    x_input = ??????\n",
    "    # The output should be a 1-D array whose size is height * width. \n",
    "    # In order to display it, it needs reshpe\n",
    "    y_pred = sess.run(outputs, feed_dict={X:x_input})"
   ]
  }
 ],
 "metadata": {
  "kernelspec": {
   "display_name": "Python 3",
   "language": "python",
   "name": "python3"
  },
  "language_info": {
   "codemirror_mode": {
    "name": "ipython",
    "version": 3
   },
   "file_extension": ".py",
   "mimetype": "text/x-python",
   "name": "python",
   "nbconvert_exporter": "python",
   "pygments_lexer": "ipython3",
   "version": "3.6.5"
  }
 },
 "nbformat": 4,
 "nbformat_minor": 2
}
